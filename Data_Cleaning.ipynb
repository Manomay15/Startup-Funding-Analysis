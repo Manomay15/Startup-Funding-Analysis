{
  "nbformat": 4,
  "nbformat_minor": 0,
  "metadata": {
    "colab": {
      "name": "Data_Cleaning.ipynb",
      "provenance": [],
      "authorship_tag": "ABX9TyNV/KzpqKnKNszTghQh0W6F",
      "include_colab_link": true
    },
    "kernelspec": {
      "name": "python3",
      "display_name": "Python 3"
    },
    "language_info": {
      "name": "python"
    }
  },
  "cells": [
    {
      "cell_type": "markdown",
      "metadata": {
        "id": "view-in-github",
        "colab_type": "text"
      },
      "source": [
        "<a href=\"https://colab.research.google.com/github/Manomay15/Startup-Funding-Analysis/blob/main/Data_Cleaning.ipynb\" target=\"_parent\"><img src=\"https://colab.research.google.com/assets/colab-badge.svg\" alt=\"Open In Colab\"/></a>"
      ]
    },
    {
      "cell_type": "code",
      "execution_count": 158,
      "metadata": {
        "id": "aCLv8zHW-Evp"
      },
      "outputs": [],
      "source": [
        "import pandas as pd"
      ]
    },
    {
      "cell_type": "code",
      "source": [
        "data = pd.read_csv('/content/starup.csv')"
      ],
      "metadata": {
        "id": "j8sRqe56-kgc"
      },
      "execution_count": 159,
      "outputs": []
    },
    {
      "cell_type": "markdown",
      "source": [
        "Let's see how many unique values are present in each column"
      ],
      "metadata": {
        "id": "G6S670CfmRDI"
      }
    },
    {
      "cell_type": "code",
      "source": [
        "data.nunique()"
      ],
      "metadata": {
        "colab": {
          "base_uri": "https://localhost:8080/"
        },
        "id": "SZpXoxkR-n_u",
        "outputId": "29318c1a-3d56-4bf3-b0a1-7554bf4488c5"
      },
      "execution_count": 160,
      "outputs": [
        {
          "output_type": "execute_result",
          "data": {
            "text/plain": [
              "Unnamed: 0    616\n",
              "Date          234\n",
              "Startup       326\n",
              "Industry      125\n",
              "Location       55\n",
              "Investor      334\n",
              "Type           68\n",
              "Amount        183\n",
              "dtype: int64"
            ]
          },
          "metadata": {},
          "execution_count": 160
        }
      ]
    },
    {
      "cell_type": "code",
      "source": [
        "data['Startup'].isna().sum()"
      ],
      "metadata": {
        "colab": {
          "base_uri": "https://localhost:8080/"
        },
        "id": "OURoPfoxIb1k",
        "outputId": "e504a34e-f64d-4c8e-95ee-54881ca1d513"
      },
      "execution_count": 161,
      "outputs": [
        {
          "output_type": "execute_result",
          "data": {
            "text/plain": [
              "5"
            ]
          },
          "metadata": {},
          "execution_count": 161
        }
      ]
    },
    {
      "cell_type": "markdown",
      "source": [
        "Here we can see that we don't have the names of 5 startups and hence we can drop them as forming conclusion will get difficult.\n",
        "\n",
        "Similary we'll drop rows where \"Amount\" is null."
      ],
      "metadata": {
        "id": "sEXk6sKEmpyH"
      }
    },
    {
      "cell_type": "code",
      "source": [
        "data = data.dropna(subset = ['Startup', 'Amount'])"
      ],
      "metadata": {
        "id": "GRk9lwkpLQNE"
      },
      "execution_count": 162,
      "outputs": []
    },
    {
      "cell_type": "markdown",
      "source": [
        "For time being, let us fill the null values of \"Investor\" as \"Secret\" and null values of \"Type\" as \"Unknown\"."
      ],
      "metadata": {
        "id": "y7NkPbvhnI4j"
      }
    },
    {
      "cell_type": "code",
      "source": [
        "data['Investor'] = data['Investor'].fillna('Secret')"
      ],
      "metadata": {
        "id": "_p9fuLnzL_mu"
      },
      "execution_count": 163,
      "outputs": []
    },
    {
      "cell_type": "code",
      "source": [
        "data['Type'] = data['Type'].fillna('Unknown')"
      ],
      "metadata": {
        "id": "tj12kGUeMfNQ"
      },
      "execution_count": 164,
      "outputs": []
    },
    {
      "cell_type": "code",
      "source": [
        "data.isna().sum()"
      ],
      "metadata": {
        "colab": {
          "base_uri": "https://localhost:8080/"
        },
        "id": "WZFJbgBELYKb",
        "outputId": "ab61a5d1-dcbb-4ab4-a43b-af782527a2ff"
      },
      "execution_count": 165,
      "outputs": [
        {
          "output_type": "execute_result",
          "data": {
            "text/plain": [
              "Unnamed: 0    0\n",
              "Date          0\n",
              "Startup       0\n",
              "Industry      0\n",
              "Location      0\n",
              "Investor      0\n",
              "Type          0\n",
              "Amount        0\n",
              "dtype: int64"
            ]
          },
          "metadata": {},
          "execution_count": 165
        }
      ]
    },
    {
      "cell_type": "markdown",
      "source": [
        "As we can see below, similar type of values are repeated and hence we'll group them together"
      ],
      "metadata": {
        "id": "a05fgmoznecU"
      }
    },
    {
      "cell_type": "code",
      "source": [
        "data['Type'].unique()"
      ],
      "metadata": {
        "colab": {
          "base_uri": "https://localhost:8080/"
        },
        "id": "ZisTfHUuAQlh",
        "outputId": "447902e2-fb02-4e09-a5fa-23a307ac3eee"
      },
      "execution_count": 166,
      "outputs": [
        {
          "output_type": "execute_result",
          "data": {
            "text/plain": [
              "array(['Series F', 'Series E', 'Series J', 'Series D', 'Venture',\n",
              "       'Debt Financing', 'Seed', 'Series A', 'Series B', 'Series C',\n",
              "       'Unspecified', 'Venture Round', 'Seed Funding', 'Series',\n",
              "       'Funding', 'Secondary Market', 'Bridge Funding', 'Pre-series E',\n",
              "       'Venture ', 'Pre-Series A', 'Equity and Debt ', 'Debt ', 'Unknown',\n",
              "       'Follow-On', 'Private Equity', 'Angel', 'In Progress', 'Series D1',\n",
              "       'M&A', 'pre-Series A', 'pre-Series B', 'Venture-Series Unknown',\n",
              "       'pre-Seed', 'Venture - Series Unknown', 'Pre Seed', 'Series C1',\n",
              "       'Series 1', 'Venture Series', 'Private Equity Round',\n",
              "       'Pre-series A', 'Seed Round', 'Debt Funding', 'Series G',\n",
              "       'Series H', 'Funding Round ', 'Corporate Round', 'Maiden Round',\n",
              "       'pre-series A', 'Seed Funding Round', 'Single Venture',\n",
              "       'Angel Round', ' Venture - Series Unknown', 'Bridge Round',\n",
              "       'Debt and Preference capital', 'Inhouse Funding',\n",
              "       'Seed/ Angel Funding', 'Debt', 'Equity', 'Debt-Funding',\n",
              "       'Pre-Series A ', 'Equity ', 'Mezzanine', 'Series B (Extension)',\n",
              "       'Equity Based Funding', 'Private Funding', 'Seed / Angel Funding'],\n",
              "      dtype=object)"
            ]
          },
          "metadata": {},
          "execution_count": 166
        }
      ]
    },
    {
      "cell_type": "markdown",
      "source": [
        "Values like \"Pre-series A\", \"Angel\", \"Seed\", etc. are grouped in \"Seed\"\n",
        "\n",
        "Similary the following groups are made:\n",
        "1. Seed - \"Pre-series A\", \"Seed Round\", \"Angel\"\n",
        "2. Series A - \"Pre-series B\", \"Series 1\"\n",
        "3. Series B\n",
        "4. Series C - \"Series C1\"\n",
        "5. Series D - \"Series D1\", \"Pre-series E\"\n",
        "6. Series E, F, G, H and J were perfect\n",
        "7. Secondary Market\n",
        "8. Bridge - \"Bridge Funding\", \"Bridge Round\"\n",
        "9. Debt\n",
        "10. Equity & Debt - \"Mezzanine\", \"M&A\"\n",
        "11. Unknown - It consists of values which couldn't tell where they belong"
      ],
      "metadata": {
        "id": "DPfOvvHGns_u"
      }
    },
    {
      "cell_type": "code",
      "source": [
        "data['Type'] = data['Type'].replace(dict.fromkeys(['pre-Series A', 'Angel', 'Pre-Series A ', 'pre-series A', 'Seed ', 'Seed/ Angel Funding', 'Angel Round', 'Maiden Round', 'Pre-series A', 'Seed', 'Seed Funding', 'Pre-Series A', 'Seed Round', 'Seed Funding Round', 'Seed / Angel Funding', 'pre-Seed', 'Pre Seed', 'Pre Series A', 'Seed Round'], 'Seed'))"
      ],
      "metadata": {
        "id": "qEMpfY_UAjRt"
      },
      "execution_count": 167,
      "outputs": []
    },
    {
      "cell_type": "code",
      "source": [
        "data['Type'] = data['Type'].replace(dict.fromkeys(['Debt and Preference capital', 'Debt Funding', 'Debt Financing', 'Debt ', 'Debt-Funding', 'DebtFunding', 'Inhouse Funding'], 'Debt'))"
      ],
      "metadata": {
        "id": "63-pwSMZM1NR"
      },
      "execution_count": 168,
      "outputs": []
    },
    {
      "cell_type": "code",
      "source": [
        "data['Type'] = data['Type'].replace(dict.fromkeys(['Series A', 'pre-Series B', 'Series 1'], 'Series A'))"
      ],
      "metadata": {
        "id": "XBtBLVIgM1yR"
      },
      "execution_count": 169,
      "outputs": []
    },
    {
      "cell_type": "code",
      "source": [
        "data['Type'] = data['Type'].replace(dict.fromkeys(['Unknown', 'Venture Series', 'Private Equity', 'Single Venture', 'Equity', 'Private Funding', 'Venture - Series Unknown', 'Venture-Series Unknown', 'Venture', 'Unspecified', 'Venture Round', 'Series', 'Funding', 'Venture ', 'Funding Round ', ' Venture - Series Unknown', 'Corporate Round', 'Equity Based Funding', 'Equity ', 'Private Equity Round', 'Follow-On', 'In Progress'], 'Unknown'))"
      ],
      "metadata": {
        "id": "paw_DosnNnd-"
      },
      "execution_count": 170,
      "outputs": []
    },
    {
      "cell_type": "code",
      "source": [
        "data['Type'] = data['Type'].replace(dict.fromkeys(['Series B', 'Series B (Extension)'], 'Series B'))"
      ],
      "metadata": {
        "id": "C0phet4QNhxn"
      },
      "execution_count": 171,
      "outputs": []
    },
    {
      "cell_type": "code",
      "source": [
        "data['Type'] = data['Type'].replace(dict.fromkeys(['Series C', 'Series C1'], 'Series C'))"
      ],
      "metadata": {
        "id": "vqxpaDgaN46r"
      },
      "execution_count": 172,
      "outputs": []
    },
    {
      "cell_type": "code",
      "source": [
        "data['Type'] = data['Type'].replace(dict.fromkeys(['Series D', 'Series D1', 'Pre-series E'], 'Series D'))"
      ],
      "metadata": {
        "id": "ZZhVqMrzPRnc"
      },
      "execution_count": 173,
      "outputs": []
    },
    {
      "cell_type": "code",
      "source": [
        "data['Type'] = data['Type'].replace(dict.fromkeys(['Bridge Funding', 'Bridge Round'], 'Bridge'))"
      ],
      "metadata": {
        "id": "duboampsOBWt"
      },
      "execution_count": 174,
      "outputs": []
    },
    {
      "cell_type": "code",
      "source": [
        "data['Type'] = data['Type'].replace(dict.fromkeys(['Equity and Debt ', 'Mezzanine', 'M&A'], 'Equity and Debt'))"
      ],
      "metadata": {
        "id": "12MlLqXeO6Gv"
      },
      "execution_count": 175,
      "outputs": []
    },
    {
      "cell_type": "code",
      "source": [
        "data['Type'].unique()"
      ],
      "metadata": {
        "colab": {
          "base_uri": "https://localhost:8080/"
        },
        "id": "ACXw7CVsCFAf",
        "outputId": "03cf7b4b-b2e9-4d90-f668-a5b88c602634"
      },
      "execution_count": 177,
      "outputs": [
        {
          "output_type": "execute_result",
          "data": {
            "text/plain": [
              "array(['Series F', 'Series E', 'Series J', 'Series D', 'Unknown', 'Debt',\n",
              "       'Seed', 'Series A', 'Series B', 'Series C', 'Secondary Market',\n",
              "       'Bridge', 'Equity and Debt', 'Series G', 'Series H'], dtype=object)"
            ]
          },
          "metadata": {},
          "execution_count": 177
        }
      ]
    },
    {
      "cell_type": "code",
      "source": [
        "data.head()"
      ],
      "metadata": {
        "colab": {
          "base_uri": "https://localhost:8080/",
          "height": 354
        },
        "id": "rPqDCzPzQWQg",
        "outputId": "2572e090-2290-4c30-df1b-282a92f4e4a8"
      },
      "execution_count": 178,
      "outputs": [
        {
          "output_type": "execute_result",
          "data": {
            "text/html": [
              "\n",
              "  <div id=\"df-c8f82978-3894-474e-9a74-ef1a41a46a1e\">\n",
              "    <div class=\"colab-df-container\">\n",
              "      <div>\n",
              "<style scoped>\n",
              "    .dataframe tbody tr th:only-of-type {\n",
              "        vertical-align: middle;\n",
              "    }\n",
              "\n",
              "    .dataframe tbody tr th {\n",
              "        vertical-align: top;\n",
              "    }\n",
              "\n",
              "    .dataframe thead th {\n",
              "        text-align: right;\n",
              "    }\n",
              "</style>\n",
              "<table border=\"1\" class=\"dataframe\">\n",
              "  <thead>\n",
              "    <tr style=\"text-align: right;\">\n",
              "      <th></th>\n",
              "      <th>Unnamed: 0</th>\n",
              "      <th>Date</th>\n",
              "      <th>Startup</th>\n",
              "      <th>Industry</th>\n",
              "      <th>Location</th>\n",
              "      <th>Investor</th>\n",
              "      <th>Type</th>\n",
              "      <th>Amount</th>\n",
              "    </tr>\n",
              "  </thead>\n",
              "  <tbody>\n",
              "    <tr>\n",
              "      <th>0</th>\n",
              "      <td>0</td>\n",
              "      <td>01-04-2021</td>\n",
              "      <td>BYJU'S</td>\n",
              "      <td>Edu-tech</td>\n",
              "      <td>Bengaluru</td>\n",
              "      <td>Innoven Capital</td>\n",
              "      <td>Series F</td>\n",
              "      <td>46,00,00,000</td>\n",
              "    </tr>\n",
              "    <tr>\n",
              "      <th>1</th>\n",
              "      <td>1</td>\n",
              "      <td>05-04-2021</td>\n",
              "      <td>Meesho</td>\n",
              "      <td>E-commerce</td>\n",
              "      <td>Bengaluru</td>\n",
              "      <td>SoftBank Vision Fund 2</td>\n",
              "      <td>Series E</td>\n",
              "      <td>30,00,00,000</td>\n",
              "    </tr>\n",
              "    <tr>\n",
              "      <th>2</th>\n",
              "      <td>2</td>\n",
              "      <td>14-04-2021</td>\n",
              "      <td>Swiggy</td>\n",
              "      <td>Online Food Delivery</td>\n",
              "      <td>Bengaluru</td>\n",
              "      <td>Amansa Holdings, Carmignac, Falcon Edge Capita...</td>\n",
              "      <td>Series J</td>\n",
              "      <td>34,30,00,000</td>\n",
              "    </tr>\n",
              "    <tr>\n",
              "      <th>3</th>\n",
              "      <td>3</td>\n",
              "      <td>07-04-2021</td>\n",
              "      <td>Groww</td>\n",
              "      <td>FinTech</td>\n",
              "      <td>Bengaluru</td>\n",
              "      <td>MC Global Edtech, B Capital, Baron, others</td>\n",
              "      <td>Series D</td>\n",
              "      <td>8,30,00,000</td>\n",
              "    </tr>\n",
              "    <tr>\n",
              "      <th>4</th>\n",
              "      <td>4</td>\n",
              "      <td>14-04-2021</td>\n",
              "      <td>Beldara</td>\n",
              "      <td>E-commerce</td>\n",
              "      <td>Mumbai</td>\n",
              "      <td>Hindustan Media Ventures</td>\n",
              "      <td>Unknown</td>\n",
              "      <td>74,00,000</td>\n",
              "    </tr>\n",
              "  </tbody>\n",
              "</table>\n",
              "</div>\n",
              "      <button class=\"colab-df-convert\" onclick=\"convertToInteractive('df-c8f82978-3894-474e-9a74-ef1a41a46a1e')\"\n",
              "              title=\"Convert this dataframe to an interactive table.\"\n",
              "              style=\"display:none;\">\n",
              "        \n",
              "  <svg xmlns=\"http://www.w3.org/2000/svg\" height=\"24px\"viewBox=\"0 0 24 24\"\n",
              "       width=\"24px\">\n",
              "    <path d=\"M0 0h24v24H0V0z\" fill=\"none\"/>\n",
              "    <path d=\"M18.56 5.44l.94 2.06.94-2.06 2.06-.94-2.06-.94-.94-2.06-.94 2.06-2.06.94zm-11 1L8.5 8.5l.94-2.06 2.06-.94-2.06-.94L8.5 2.5l-.94 2.06-2.06.94zm10 10l.94 2.06.94-2.06 2.06-.94-2.06-.94-.94-2.06-.94 2.06-2.06.94z\"/><path d=\"M17.41 7.96l-1.37-1.37c-.4-.4-.92-.59-1.43-.59-.52 0-1.04.2-1.43.59L10.3 9.45l-7.72 7.72c-.78.78-.78 2.05 0 2.83L4 21.41c.39.39.9.59 1.41.59.51 0 1.02-.2 1.41-.59l7.78-7.78 2.81-2.81c.8-.78.8-2.07 0-2.86zM5.41 20L4 18.59l7.72-7.72 1.47 1.35L5.41 20z\"/>\n",
              "  </svg>\n",
              "      </button>\n",
              "      \n",
              "  <style>\n",
              "    .colab-df-container {\n",
              "      display:flex;\n",
              "      flex-wrap:wrap;\n",
              "      gap: 12px;\n",
              "    }\n",
              "\n",
              "    .colab-df-convert {\n",
              "      background-color: #E8F0FE;\n",
              "      border: none;\n",
              "      border-radius: 50%;\n",
              "      cursor: pointer;\n",
              "      display: none;\n",
              "      fill: #1967D2;\n",
              "      height: 32px;\n",
              "      padding: 0 0 0 0;\n",
              "      width: 32px;\n",
              "    }\n",
              "\n",
              "    .colab-df-convert:hover {\n",
              "      background-color: #E2EBFA;\n",
              "      box-shadow: 0px 1px 2px rgba(60, 64, 67, 0.3), 0px 1px 3px 1px rgba(60, 64, 67, 0.15);\n",
              "      fill: #174EA6;\n",
              "    }\n",
              "\n",
              "    [theme=dark] .colab-df-convert {\n",
              "      background-color: #3B4455;\n",
              "      fill: #D2E3FC;\n",
              "    }\n",
              "\n",
              "    [theme=dark] .colab-df-convert:hover {\n",
              "      background-color: #434B5C;\n",
              "      box-shadow: 0px 1px 3px 1px rgba(0, 0, 0, 0.15);\n",
              "      filter: drop-shadow(0px 1px 2px rgba(0, 0, 0, 0.3));\n",
              "      fill: #FFFFFF;\n",
              "    }\n",
              "  </style>\n",
              "\n",
              "      <script>\n",
              "        const buttonEl =\n",
              "          document.querySelector('#df-c8f82978-3894-474e-9a74-ef1a41a46a1e button.colab-df-convert');\n",
              "        buttonEl.style.display =\n",
              "          google.colab.kernel.accessAllowed ? 'block' : 'none';\n",
              "\n",
              "        async function convertToInteractive(key) {\n",
              "          const element = document.querySelector('#df-c8f82978-3894-474e-9a74-ef1a41a46a1e');\n",
              "          const dataTable =\n",
              "            await google.colab.kernel.invokeFunction('convertToInteractive',\n",
              "                                                     [key], {});\n",
              "          if (!dataTable) return;\n",
              "\n",
              "          const docLinkHtml = 'Like what you see? Visit the ' +\n",
              "            '<a target=\"_blank\" href=https://colab.research.google.com/notebooks/data_table.ipynb>data table notebook</a>'\n",
              "            + ' to learn more about interactive tables.';\n",
              "          element.innerHTML = '';\n",
              "          dataTable['output_type'] = 'display_data';\n",
              "          await google.colab.output.renderOutput(dataTable, element);\n",
              "          const docLink = document.createElement('div');\n",
              "          docLink.innerHTML = docLinkHtml;\n",
              "          element.appendChild(docLink);\n",
              "        }\n",
              "      </script>\n",
              "    </div>\n",
              "  </div>\n",
              "  "
            ],
            "text/plain": [
              "   Unnamed: 0        Date  ...      Type        Amount\n",
              "0           0  01-04-2021  ...  Series F  46,00,00,000\n",
              "1           1  05-04-2021  ...  Series E  30,00,00,000\n",
              "2           2  14-04-2021  ...  Series J  34,30,00,000\n",
              "3           3  07-04-2021  ...  Series D   8,30,00,000\n",
              "4           4  14-04-2021  ...   Unknown     74,00,000\n",
              "\n",
              "[5 rows x 8 columns]"
            ]
          },
          "metadata": {},
          "execution_count": 178
        }
      ]
    },
    {
      "cell_type": "markdown",
      "source": [
        "Now coming to the \"Industry\", here also we can see many overlapping values which can be grouped"
      ],
      "metadata": {
        "id": "6iFW7qHKqe6M"
      }
    },
    {
      "cell_type": "code",
      "source": [
        "data['Industry'].unique()"
      ],
      "metadata": {
        "colab": {
          "base_uri": "https://localhost:8080/"
        },
        "id": "7MGB_z83qeRQ",
        "outputId": "d9ce3188-63c9-41b1-8c98-aa45d64da79c"
      },
      "execution_count": 179,
      "outputs": [
        {
          "output_type": "execute_result",
          "data": {
            "text/plain": [
              "array(['Edu-tech', 'E-commerce', 'Online Food Delivery', 'FinTech',\n",
              "       'Technology', 'Edu Tech', 'Hospitality', 'Finance', 'E-Commerce',\n",
              "       'EdTech', 'Financial Services', 'Consumer Goods Company',\n",
              "       'AgriTech Startup', 'SaaS', 'Health Tech Startup', 'Food Startup',\n",
              "       'B2B E-commerce', 'Food and Beverage', 'Technology Provider',\n",
              "       'Supply chain ', 'EduTech', 'Lifestyle', 'Transportation',\n",
              "       'Edutech', 'Fintech', 'Dairy Tech', 'Digital Solutions',\n",
              "       'AgriTech', 'Advertising', 'Information Technology',\n",
              "       'Personal Care', 'Online Gaming',\n",
              "       'Video Customer Experience(CX) Platform', 'HealthTech',\n",
              "       'Human Resources', 'FoodTech', 'Hyper-local Logistics',\n",
              "       'Water Purification', 'Airfare Marketplace',\n",
              "       'Gaming and Entertainment', 'Marketplace', 'Automotive Rental',\n",
              "       'OTT Player', 'Rural FinTech', 'Logistics Solution Provider',\n",
              "       'Deep Tech AI', 'Block Chain, Cryptocurrency',\n",
              "       'Professional Network for Women', 'Utility Solutions Provider',\n",
              "       'Gaming', 'Food Delivery',\n",
              "       'Digital Reconcilation and Financial Services', 'Real Estate',\n",
              "       'Transport', 'Education', 'Information Technology and Services',\n",
              "       'Intelligent Marketing Cloud', 'Cafe', 'E-Tech',\n",
              "       'Fashion and Apparel', 'Logistics', 'Aerospace',\n",
              "       'B2B-focused foodtech startup', 'Video', 'Software',\n",
              "       'Health and wellness', 'Health and Wellness', 'B2B Marketing',\n",
              "       'Video Games', 'Last Mile Transportation', 'Healthcare',\n",
              "       'Customer Service', 'B2B', 'Consumer Goods',\n",
              "       'Advertising, Marketing', 'IoT', 'Consumer Technology',\n",
              "       'Accounting', 'Retail', 'Customer Service Platform', 'Automotive',\n",
              "       'Services', 'Compliance', 'Artificial Intelligence', 'Tech',\n",
              "       'Health Care', 'Luxury Label', 'Waste Management Service',\n",
              "       'Deep-Tech', 'Agriculture', 'Energy', 'Digital Media', 'Saas',\n",
              "       'Automobile', 'Agtech', 'Social Media', 'Edtech', 'Ecommerce',\n",
              "       'Nanotechnology', 'Travel Tech', 'Online Education',\n",
              "       'Online Marketplace', 'SaaS, Ecommerce', 'NBFC', 'Food',\n",
              "       'Food Tech', 'Automation', 'Investment', 'Social Network',\n",
              "       'Financial Tech', 'Logistics Tech', 'Consumer Internet',\n",
              "       'B2B Platform', 'Fin-Tech', 'Food-Tech', 'Ed-Tech', 'IT'],\n",
              "      dtype=object)"
            ]
          },
          "metadata": {},
          "execution_count": 179
        }
      ]
    },
    {
      "cell_type": "code",
      "source": [
        "data = data.drop(columns=data.columns[0])\n",
        "data.head()"
      ],
      "metadata": {
        "colab": {
          "base_uri": "https://localhost:8080/",
          "height": 337
        },
        "id": "DYWMfBJJRK6S",
        "outputId": "178c67c5-f2a8-4f8d-963c-d67746ee0e65"
      },
      "execution_count": 180,
      "outputs": [
        {
          "output_type": "execute_result",
          "data": {
            "text/html": [
              "\n",
              "  <div id=\"df-189cdd1e-43db-4ee3-a055-470d4d259068\">\n",
              "    <div class=\"colab-df-container\">\n",
              "      <div>\n",
              "<style scoped>\n",
              "    .dataframe tbody tr th:only-of-type {\n",
              "        vertical-align: middle;\n",
              "    }\n",
              "\n",
              "    .dataframe tbody tr th {\n",
              "        vertical-align: top;\n",
              "    }\n",
              "\n",
              "    .dataframe thead th {\n",
              "        text-align: right;\n",
              "    }\n",
              "</style>\n",
              "<table border=\"1\" class=\"dataframe\">\n",
              "  <thead>\n",
              "    <tr style=\"text-align: right;\">\n",
              "      <th></th>\n",
              "      <th>Date</th>\n",
              "      <th>Startup</th>\n",
              "      <th>Industry</th>\n",
              "      <th>Location</th>\n",
              "      <th>Investor</th>\n",
              "      <th>Type</th>\n",
              "      <th>Amount</th>\n",
              "    </tr>\n",
              "  </thead>\n",
              "  <tbody>\n",
              "    <tr>\n",
              "      <th>0</th>\n",
              "      <td>01-04-2021</td>\n",
              "      <td>BYJU'S</td>\n",
              "      <td>Edu-tech</td>\n",
              "      <td>Bengaluru</td>\n",
              "      <td>Innoven Capital</td>\n",
              "      <td>Series F</td>\n",
              "      <td>46,00,00,000</td>\n",
              "    </tr>\n",
              "    <tr>\n",
              "      <th>1</th>\n",
              "      <td>05-04-2021</td>\n",
              "      <td>Meesho</td>\n",
              "      <td>E-commerce</td>\n",
              "      <td>Bengaluru</td>\n",
              "      <td>SoftBank Vision Fund 2</td>\n",
              "      <td>Series E</td>\n",
              "      <td>30,00,00,000</td>\n",
              "    </tr>\n",
              "    <tr>\n",
              "      <th>2</th>\n",
              "      <td>14-04-2021</td>\n",
              "      <td>Swiggy</td>\n",
              "      <td>Online Food Delivery</td>\n",
              "      <td>Bengaluru</td>\n",
              "      <td>Amansa Holdings, Carmignac, Falcon Edge Capita...</td>\n",
              "      <td>Series J</td>\n",
              "      <td>34,30,00,000</td>\n",
              "    </tr>\n",
              "    <tr>\n",
              "      <th>3</th>\n",
              "      <td>07-04-2021</td>\n",
              "      <td>Groww</td>\n",
              "      <td>FinTech</td>\n",
              "      <td>Bengaluru</td>\n",
              "      <td>MC Global Edtech, B Capital, Baron, others</td>\n",
              "      <td>Series D</td>\n",
              "      <td>8,30,00,000</td>\n",
              "    </tr>\n",
              "    <tr>\n",
              "      <th>4</th>\n",
              "      <td>14-04-2021</td>\n",
              "      <td>Beldara</td>\n",
              "      <td>E-commerce</td>\n",
              "      <td>Mumbai</td>\n",
              "      <td>Hindustan Media Ventures</td>\n",
              "      <td>Unknown</td>\n",
              "      <td>74,00,000</td>\n",
              "    </tr>\n",
              "  </tbody>\n",
              "</table>\n",
              "</div>\n",
              "      <button class=\"colab-df-convert\" onclick=\"convertToInteractive('df-189cdd1e-43db-4ee3-a055-470d4d259068')\"\n",
              "              title=\"Convert this dataframe to an interactive table.\"\n",
              "              style=\"display:none;\">\n",
              "        \n",
              "  <svg xmlns=\"http://www.w3.org/2000/svg\" height=\"24px\"viewBox=\"0 0 24 24\"\n",
              "       width=\"24px\">\n",
              "    <path d=\"M0 0h24v24H0V0z\" fill=\"none\"/>\n",
              "    <path d=\"M18.56 5.44l.94 2.06.94-2.06 2.06-.94-2.06-.94-.94-2.06-.94 2.06-2.06.94zm-11 1L8.5 8.5l.94-2.06 2.06-.94-2.06-.94L8.5 2.5l-.94 2.06-2.06.94zm10 10l.94 2.06.94-2.06 2.06-.94-2.06-.94-.94-2.06-.94 2.06-2.06.94z\"/><path d=\"M17.41 7.96l-1.37-1.37c-.4-.4-.92-.59-1.43-.59-.52 0-1.04.2-1.43.59L10.3 9.45l-7.72 7.72c-.78.78-.78 2.05 0 2.83L4 21.41c.39.39.9.59 1.41.59.51 0 1.02-.2 1.41-.59l7.78-7.78 2.81-2.81c.8-.78.8-2.07 0-2.86zM5.41 20L4 18.59l7.72-7.72 1.47 1.35L5.41 20z\"/>\n",
              "  </svg>\n",
              "      </button>\n",
              "      \n",
              "  <style>\n",
              "    .colab-df-container {\n",
              "      display:flex;\n",
              "      flex-wrap:wrap;\n",
              "      gap: 12px;\n",
              "    }\n",
              "\n",
              "    .colab-df-convert {\n",
              "      background-color: #E8F0FE;\n",
              "      border: none;\n",
              "      border-radius: 50%;\n",
              "      cursor: pointer;\n",
              "      display: none;\n",
              "      fill: #1967D2;\n",
              "      height: 32px;\n",
              "      padding: 0 0 0 0;\n",
              "      width: 32px;\n",
              "    }\n",
              "\n",
              "    .colab-df-convert:hover {\n",
              "      background-color: #E2EBFA;\n",
              "      box-shadow: 0px 1px 2px rgba(60, 64, 67, 0.3), 0px 1px 3px 1px rgba(60, 64, 67, 0.15);\n",
              "      fill: #174EA6;\n",
              "    }\n",
              "\n",
              "    [theme=dark] .colab-df-convert {\n",
              "      background-color: #3B4455;\n",
              "      fill: #D2E3FC;\n",
              "    }\n",
              "\n",
              "    [theme=dark] .colab-df-convert:hover {\n",
              "      background-color: #434B5C;\n",
              "      box-shadow: 0px 1px 3px 1px rgba(0, 0, 0, 0.15);\n",
              "      filter: drop-shadow(0px 1px 2px rgba(0, 0, 0, 0.3));\n",
              "      fill: #FFFFFF;\n",
              "    }\n",
              "  </style>\n",
              "\n",
              "      <script>\n",
              "        const buttonEl =\n",
              "          document.querySelector('#df-189cdd1e-43db-4ee3-a055-470d4d259068 button.colab-df-convert');\n",
              "        buttonEl.style.display =\n",
              "          google.colab.kernel.accessAllowed ? 'block' : 'none';\n",
              "\n",
              "        async function convertToInteractive(key) {\n",
              "          const element = document.querySelector('#df-189cdd1e-43db-4ee3-a055-470d4d259068');\n",
              "          const dataTable =\n",
              "            await google.colab.kernel.invokeFunction('convertToInteractive',\n",
              "                                                     [key], {});\n",
              "          if (!dataTable) return;\n",
              "\n",
              "          const docLinkHtml = 'Like what you see? Visit the ' +\n",
              "            '<a target=\"_blank\" href=https://colab.research.google.com/notebooks/data_table.ipynb>data table notebook</a>'\n",
              "            + ' to learn more about interactive tables.';\n",
              "          element.innerHTML = '';\n",
              "          dataTable['output_type'] = 'display_data';\n",
              "          await google.colab.output.renderOutput(dataTable, element);\n",
              "          const docLink = document.createElement('div');\n",
              "          docLink.innerHTML = docLinkHtml;\n",
              "          element.appendChild(docLink);\n",
              "        }\n",
              "      </script>\n",
              "    </div>\n",
              "  </div>\n",
              "  "
            ],
            "text/plain": [
              "         Date  Startup  ...      Type        Amount\n",
              "0  01-04-2021   BYJU'S  ...  Series F  46,00,00,000\n",
              "1  05-04-2021   Meesho  ...  Series E  30,00,00,000\n",
              "2  14-04-2021   Swiggy  ...  Series J  34,30,00,000\n",
              "3  07-04-2021    Groww  ...  Series D   8,30,00,000\n",
              "4  14-04-2021  Beldara  ...   Unknown     74,00,000\n",
              "\n",
              "[5 rows x 7 columns]"
            ]
          },
          "metadata": {},
          "execution_count": 180
        }
      ]
    },
    {
      "cell_type": "markdown",
      "source": [
        "In \"Industry\", the grouping is done as follows:\n",
        "\n",
        "1. Education - \"Ed-Tech\", \"Online education\", etc.\n",
        "2. Finance - \"FinTech\", \"Financial Services\", etc.\n",
        "3. Consumables - \"Food-Tech\", \"Food & Beverages\", etc.\n",
        "4. Agriculture - \"Agri-Tech\", etc.\n",
        "5. Logistics - \"Logistic-Tech\", \"Transport\", etc.\n",
        "6. Software - \"Saas\", \"Digital solutions\", etc.\n",
        "7. E-Commerce - \"Online Marketplace\", etc.\n",
        "8. Healthcare & Hospitality - \"Health\", \"Wellness\", etc.\n",
        "9. Lifestyle & fashion - \"Luxury label\", \"Personal care\", etc.\n",
        "10. Marketing\n",
        "11. Cutting Edge Tech - \"AI\", \"Blockchain\", \"IoT\", etc.\n",
        "12. Gaming & Entertainment\n",
        "13. Energy & Waste Management\n",
        "14. Automobile\n",
        "15. Real Estate\n",
        "16. Compliance\n",
        "17. Retail\n",
        "18. Automobile"
      ],
      "metadata": {
        "id": "F5wYnE4equXq"
      }
    },
    {
      "cell_type": "code",
      "source": [
        "data['Industry'] = data['Industry'].replace(dict.fromkeys(['Ed-Tech', 'Edtech', 'Online Education', 'E-Tech', 'Education', 'Edutech', 'Edu-tech', 'Edu Tech', 'EdTech', 'EduTech'], 'Education'))"
      ],
      "metadata": {
        "id": "PhqF7vc9U0fo"
      },
      "execution_count": 181,
      "outputs": []
    },
    {
      "cell_type": "code",
      "source": [
        "data['Industry'] = data['Industry'].replace(dict.fromkeys(['NBFC', 'Fin-Tech', 'Financial Tech', 'Investment', 'Digital Reconcilation and Financial Services', 'Rural FinTech', 'Fintech', 'Financial Services', 'Finance', 'FinTech','Accounting'], 'Finance'))"
      ],
      "metadata": {
        "id": "8u3dIiMTV1zN"
      },
      "execution_count": 182,
      "outputs": []
    },
    {
      "cell_type": "code",
      "source": [
        "data['Industry'] = data['Industry'].replace(dict.fromkeys(['Consumer Goods', 'Consumer Goods Company', 'Food-Tech', 'Food Tech', 'Food', 'Cafe', 'Food Delivery', 'FoodTech', 'Dairy Tech', 'B2B-focused foodtech startup', 'Food and Beverage', 'Food Startup', 'Water Purification','Online Food Delivery'], 'Consumables'))"
      ],
      "metadata": {
        "id": "Jux8ipT2XHkw"
      },
      "execution_count": 183,
      "outputs": []
    },
    {
      "cell_type": "code",
      "source": [
        "data['Industry'] = data['Industry'].replace(dict.fromkeys(['AgriTech Startup', 'Agtech', 'Agriculture', 'AgriTech', 'AgriTech Startup'], 'Agriculture'))"
      ],
      "metadata": {
        "id": "WMClC6nzYF5P"
      },
      "execution_count": 184,
      "outputs": []
    },
    {
      "cell_type": "code",
      "source": [
        "data['Industry'] = data['Industry'].replace(dict.fromkeys(['Utility Solutions Provider', 'B2B Platform', 'B2B', 'Logistics Tech', 'Travel Tech', 'Last Mile Transportation', 'Logistics', 'Transport', 'Logistics Solution Provider', 'Hyper-local Logistics', 'Transportation', 'Supply chain '], 'Logistics'))"
      ],
      "metadata": {
        "id": "Atf6wpvTYq3s"
      },
      "execution_count": 185,
      "outputs": []
    },
    {
      "cell_type": "code",
      "source": [
        "data['Industry'] = data['Industry'].replace(dict.fromkeys(['IT', 'Consumer Internet','SaaS', 'Saas', 'Services', 'Customer Service Platform', 'Consumer Technology', 'Software', 'Information Technology and Services', 'Professional Network for Women', 'Information Technology', 'Digital Solutions', 'Technology Provider','SaaS', 'Technology'], 'Software'))"
      ],
      "metadata": {
        "id": "t92GcUhRZfjF"
      },
      "execution_count": 186,
      "outputs": []
    },
    {
      "cell_type": "code",
      "source": [
        "data['Industry'] = data['Industry'].replace(dict.fromkeys(['Airfare Marketplace', 'Online Marketplace', 'SaaS, Ecommerce', 'Ecommerce', 'Marketplace', 'B2B E-commerce', 'E-Commerce', 'E-commerce'], 'E-Commerce'))"
      ],
      "metadata": {
        "id": "Kkca31FLarED"
      },
      "execution_count": 187,
      "outputs": []
    },
    {
      "cell_type": "code",
      "source": [
        "data['Industry'] = data['Industry'].replace(dict.fromkeys(['Health Care', 'Healthcare', 'Health and Wellness', 'Health and wellness', 'HealthTech', 'Health Tech Startup', 'Hospitality'], 'Healthcare & Hospitality'))"
      ],
      "metadata": {
        "id": "Siwj3QkMbg_L"
      },
      "execution_count": 188,
      "outputs": []
    },
    {
      "cell_type": "code",
      "source": [
        "data['Industry'] = data['Industry'].replace(dict.fromkeys(['Luxury Label', 'Fashion and Apparel', 'Lifestyle', 'Personal Care'], 'Lifestyle & Fashion'))"
      ],
      "metadata": {
        "id": "rFC2_YFdcXDj"
      },
      "execution_count": 189,
      "outputs": []
    },
    {
      "cell_type": "code",
      "source": [
        "data['Industry'] = data['Industry'].replace(dict.fromkeys(['B2B Marketing', 'Intelligent Marketing Cloud', 'Customer Service', 'Advertising, Marketing', 'Advertising'], 'Marketing'))"
      ],
      "metadata": {
        "id": "caXvviI4dAWx"
      },
      "execution_count": 190,
      "outputs": []
    },
    {
      "cell_type": "code",
      "source": [
        "data['Industry'] = data['Industry'].replace(dict.fromkeys(['Nanotechnology',\n",
        "       'Automation', 'Deep-Tech', 'Artificial Intelligence',\n",
        "       'Tech', 'IoT', 'Deep Tech AI', 'Block Chain, Cryptocurrency'], 'Cutting Edge Tech'))"
      ],
      "metadata": {
        "id": "vZ_GVrppdcZ2"
      },
      "execution_count": 191,
      "outputs": []
    },
    {
      "cell_type": "code",
      "source": [
        "data['Industry'] = data['Industry'].replace(dict.fromkeys(['Video', 'Digital Media', 'OTT Player','Social Network', 'Social Media', 'Video Games', 'Gaming', 'Gaming and Entertainment', 'Online Gaming', 'Video Customer Experience(CX) Platform'], 'Gaming & Entertainment'))"
      ],
      "metadata": {
        "id": "sFezDycreD_4"
      },
      "execution_count": 192,
      "outputs": []
    },
    {
      "cell_type": "code",
      "source": [
        "data['Industry'] = data['Industry'].replace(dict.fromkeys(['Waste Management Service', 'Energy'], 'Energy & Waste Management'))"
      ],
      "metadata": {
        "id": "vZ5QxJi-fjIu"
      },
      "execution_count": 193,
      "outputs": []
    },
    {
      "cell_type": "code",
      "source": [
        "data['Industry'] = data['Industry'].replace(dict.fromkeys(['Automotive Rental', 'Automotive', 'Automobile'], 'Automobile'))"
      ],
      "metadata": {
        "id": "ofNlt0qYgkq5"
      },
      "execution_count": 194,
      "outputs": []
    },
    {
      "cell_type": "code",
      "source": [
        "data['Industry'].unique()"
      ],
      "metadata": {
        "colab": {
          "base_uri": "https://localhost:8080/"
        },
        "id": "oWbiQ0_8UT0N",
        "outputId": "903e5cce-c942-4caf-b1a6-7c44f3bb72f0"
      },
      "execution_count": 196,
      "outputs": [
        {
          "output_type": "execute_result",
          "data": {
            "text/plain": [
              "array(['Education', 'E-Commerce', 'Consumables', 'Finance', 'Software',\n",
              "       'Healthcare & Hospitality', 'Agriculture', 'Logistics',\n",
              "       'Lifestyle & Fashion', 'Marketing', 'Gaming & Entertainment',\n",
              "       'Human Resources', 'Automobile', 'Cutting Edge Tech',\n",
              "       'Real Estate', 'Aerospace', 'Retail', 'Compliance',\n",
              "       'Energy & Waste Management'], dtype=object)"
            ]
          },
          "metadata": {},
          "execution_count": 196
        }
      ]
    },
    {
      "cell_type": "code",
      "source": [
        "data.head()"
      ],
      "metadata": {
        "colab": {
          "base_uri": "https://localhost:8080/",
          "height": 337
        },
        "id": "7DlDf2tYhSkf",
        "outputId": "14c5c84f-20cf-444a-a3a4-8dbcf4a22408"
      },
      "execution_count": 197,
      "outputs": [
        {
          "output_type": "execute_result",
          "data": {
            "text/html": [
              "\n",
              "  <div id=\"df-b0577555-30c3-499b-9f17-5f316a22f694\">\n",
              "    <div class=\"colab-df-container\">\n",
              "      <div>\n",
              "<style scoped>\n",
              "    .dataframe tbody tr th:only-of-type {\n",
              "        vertical-align: middle;\n",
              "    }\n",
              "\n",
              "    .dataframe tbody tr th {\n",
              "        vertical-align: top;\n",
              "    }\n",
              "\n",
              "    .dataframe thead th {\n",
              "        text-align: right;\n",
              "    }\n",
              "</style>\n",
              "<table border=\"1\" class=\"dataframe\">\n",
              "  <thead>\n",
              "    <tr style=\"text-align: right;\">\n",
              "      <th></th>\n",
              "      <th>Date</th>\n",
              "      <th>Startup</th>\n",
              "      <th>Industry</th>\n",
              "      <th>Location</th>\n",
              "      <th>Investor</th>\n",
              "      <th>Type</th>\n",
              "      <th>Amount</th>\n",
              "    </tr>\n",
              "  </thead>\n",
              "  <tbody>\n",
              "    <tr>\n",
              "      <th>0</th>\n",
              "      <td>01-04-2021</td>\n",
              "      <td>BYJU'S</td>\n",
              "      <td>Education</td>\n",
              "      <td>Bengaluru</td>\n",
              "      <td>Innoven Capital</td>\n",
              "      <td>Series F</td>\n",
              "      <td>46,00,00,000</td>\n",
              "    </tr>\n",
              "    <tr>\n",
              "      <th>1</th>\n",
              "      <td>05-04-2021</td>\n",
              "      <td>Meesho</td>\n",
              "      <td>E-Commerce</td>\n",
              "      <td>Bengaluru</td>\n",
              "      <td>SoftBank Vision Fund 2</td>\n",
              "      <td>Series E</td>\n",
              "      <td>30,00,00,000</td>\n",
              "    </tr>\n",
              "    <tr>\n",
              "      <th>2</th>\n",
              "      <td>14-04-2021</td>\n",
              "      <td>Swiggy</td>\n",
              "      <td>Consumables</td>\n",
              "      <td>Bengaluru</td>\n",
              "      <td>Amansa Holdings, Carmignac, Falcon Edge Capita...</td>\n",
              "      <td>Series J</td>\n",
              "      <td>34,30,00,000</td>\n",
              "    </tr>\n",
              "    <tr>\n",
              "      <th>3</th>\n",
              "      <td>07-04-2021</td>\n",
              "      <td>Groww</td>\n",
              "      <td>Finance</td>\n",
              "      <td>Bengaluru</td>\n",
              "      <td>MC Global Edtech, B Capital, Baron, others</td>\n",
              "      <td>Series D</td>\n",
              "      <td>8,30,00,000</td>\n",
              "    </tr>\n",
              "    <tr>\n",
              "      <th>4</th>\n",
              "      <td>14-04-2021</td>\n",
              "      <td>Beldara</td>\n",
              "      <td>E-Commerce</td>\n",
              "      <td>Mumbai</td>\n",
              "      <td>Hindustan Media Ventures</td>\n",
              "      <td>Unknown</td>\n",
              "      <td>74,00,000</td>\n",
              "    </tr>\n",
              "  </tbody>\n",
              "</table>\n",
              "</div>\n",
              "      <button class=\"colab-df-convert\" onclick=\"convertToInteractive('df-b0577555-30c3-499b-9f17-5f316a22f694')\"\n",
              "              title=\"Convert this dataframe to an interactive table.\"\n",
              "              style=\"display:none;\">\n",
              "        \n",
              "  <svg xmlns=\"http://www.w3.org/2000/svg\" height=\"24px\"viewBox=\"0 0 24 24\"\n",
              "       width=\"24px\">\n",
              "    <path d=\"M0 0h24v24H0V0z\" fill=\"none\"/>\n",
              "    <path d=\"M18.56 5.44l.94 2.06.94-2.06 2.06-.94-2.06-.94-.94-2.06-.94 2.06-2.06.94zm-11 1L8.5 8.5l.94-2.06 2.06-.94-2.06-.94L8.5 2.5l-.94 2.06-2.06.94zm10 10l.94 2.06.94-2.06 2.06-.94-2.06-.94-.94-2.06-.94 2.06-2.06.94z\"/><path d=\"M17.41 7.96l-1.37-1.37c-.4-.4-.92-.59-1.43-.59-.52 0-1.04.2-1.43.59L10.3 9.45l-7.72 7.72c-.78.78-.78 2.05 0 2.83L4 21.41c.39.39.9.59 1.41.59.51 0 1.02-.2 1.41-.59l7.78-7.78 2.81-2.81c.8-.78.8-2.07 0-2.86zM5.41 20L4 18.59l7.72-7.72 1.47 1.35L5.41 20z\"/>\n",
              "  </svg>\n",
              "      </button>\n",
              "      \n",
              "  <style>\n",
              "    .colab-df-container {\n",
              "      display:flex;\n",
              "      flex-wrap:wrap;\n",
              "      gap: 12px;\n",
              "    }\n",
              "\n",
              "    .colab-df-convert {\n",
              "      background-color: #E8F0FE;\n",
              "      border: none;\n",
              "      border-radius: 50%;\n",
              "      cursor: pointer;\n",
              "      display: none;\n",
              "      fill: #1967D2;\n",
              "      height: 32px;\n",
              "      padding: 0 0 0 0;\n",
              "      width: 32px;\n",
              "    }\n",
              "\n",
              "    .colab-df-convert:hover {\n",
              "      background-color: #E2EBFA;\n",
              "      box-shadow: 0px 1px 2px rgba(60, 64, 67, 0.3), 0px 1px 3px 1px rgba(60, 64, 67, 0.15);\n",
              "      fill: #174EA6;\n",
              "    }\n",
              "\n",
              "    [theme=dark] .colab-df-convert {\n",
              "      background-color: #3B4455;\n",
              "      fill: #D2E3FC;\n",
              "    }\n",
              "\n",
              "    [theme=dark] .colab-df-convert:hover {\n",
              "      background-color: #434B5C;\n",
              "      box-shadow: 0px 1px 3px 1px rgba(0, 0, 0, 0.15);\n",
              "      filter: drop-shadow(0px 1px 2px rgba(0, 0, 0, 0.3));\n",
              "      fill: #FFFFFF;\n",
              "    }\n",
              "  </style>\n",
              "\n",
              "      <script>\n",
              "        const buttonEl =\n",
              "          document.querySelector('#df-b0577555-30c3-499b-9f17-5f316a22f694 button.colab-df-convert');\n",
              "        buttonEl.style.display =\n",
              "          google.colab.kernel.accessAllowed ? 'block' : 'none';\n",
              "\n",
              "        async function convertToInteractive(key) {\n",
              "          const element = document.querySelector('#df-b0577555-30c3-499b-9f17-5f316a22f694');\n",
              "          const dataTable =\n",
              "            await google.colab.kernel.invokeFunction('convertToInteractive',\n",
              "                                                     [key], {});\n",
              "          if (!dataTable) return;\n",
              "\n",
              "          const docLinkHtml = 'Like what you see? Visit the ' +\n",
              "            '<a target=\"_blank\" href=https://colab.research.google.com/notebooks/data_table.ipynb>data table notebook</a>'\n",
              "            + ' to learn more about interactive tables.';\n",
              "          element.innerHTML = '';\n",
              "          dataTable['output_type'] = 'display_data';\n",
              "          await google.colab.output.renderOutput(dataTable, element);\n",
              "          const docLink = document.createElement('div');\n",
              "          docLink.innerHTML = docLinkHtml;\n",
              "          element.appendChild(docLink);\n",
              "        }\n",
              "      </script>\n",
              "    </div>\n",
              "  </div>\n",
              "  "
            ],
            "text/plain": [
              "         Date  Startup  ...      Type        Amount\n",
              "0  01-04-2021   BYJU'S  ...  Series F  46,00,00,000\n",
              "1  05-04-2021   Meesho  ...  Series E  30,00,00,000\n",
              "2  14-04-2021   Swiggy  ...  Series J  34,30,00,000\n",
              "3  07-04-2021    Groww  ...  Series D   8,30,00,000\n",
              "4  14-04-2021  Beldara  ...   Unknown     74,00,000\n",
              "\n",
              "[5 rows x 7 columns]"
            ]
          },
          "metadata": {},
          "execution_count": 197
        }
      ]
    },
    {
      "cell_type": "markdown",
      "source": [
        "Similary \"Location\" has also been grouped into:\n",
        "\n",
        "'Bangalore', 'Mumbai', 'Jaipur', 'Gurgaon',\n",
        "       'Delhi', 'Patna', 'Pune', 'Noida', 'Chennai', 'Ahmedabad',\n",
        "       'Hyderabad', 'Faridabad', 'Amritsar', 'Haryana', 'Bhopal',\n",
        "       'Nagpur', 'Indore', 'Ahemadabad', 'Rourkela' and 'Outside India'"
      ],
      "metadata": {
        "id": "E5KholQxs8u0"
      }
    },
    {
      "cell_type": "code",
      "source": [
        "data['Location'] = data['Location'].replace(dict.fromkeys(['India', 'Karnataka', 'Kormangala', 'New York, Bengaluru', 'Mumbai/Bengaluru', 'Bengaluru and Gurugram', 'Bengaluru ', 'San Francisco/ Bangalore', 'Singapore and Bangalore', 'Bengaluru', 'Bangalore'], 'Bangalore'))"
      ],
      "metadata": {
        "id": "6FjCobyJiMYS"
      },
      "execution_count": 198,
      "outputs": []
    },
    {
      "cell_type": "code",
      "source": [
        "data['Location'] = data['Location'].replace(dict.fromkeys(['Andheri', 'Chembur', 'Mumbai'], 'Mumbai'))"
      ],
      "metadata": {
        "id": "dq6EfU3riveO"
      },
      "execution_count": 199,
      "outputs": []
    },
    {
      "cell_type": "code",
      "source": [
        "data['Location'] = data['Location'].replace(dict.fromkeys(['New York', 'Tulangan', 'Nairobi', 'California', 'India/Singapore', 'India/US', 'Burnsville', 'Menlo Park', 'Palo Alto ', 'Santa Monica',\n",
        "       'Singapore', 'Taramani', 'San Francisco',\n",
        "       'San Jose,', 'Wilmington, Delaware, United States',\n",
        "       'Newark, Delaware, United States of Amercia',\n",
        "       'Stanford, California, ', 'Washington', 'London', 'Palo Alto'], 'Outside India'))"
      ],
      "metadata": {
        "id": "zL4BElbBjPlq"
      },
      "execution_count": 200,
      "outputs": []
    },
    {
      "cell_type": "code",
      "source": [
        "data['Location'] = data['Location'].replace(dict.fromkeys(['Jaipur', 'Jaipur, Rajasthan'], 'Jaipur'))"
      ],
      "metadata": {
        "id": "CZo4QQ7Ljukl"
      },
      "execution_count": 201,
      "outputs": []
    },
    {
      "cell_type": "code",
      "source": [
        "data['Location'] = data['Location'].replace(dict.fromkeys(['Gurgaon','Gurugram'], 'Gurgaon'))"
      ],
      "metadata": {
        "id": "hNErJ_kNkBgt"
      },
      "execution_count": 202,
      "outputs": []
    },
    {
      "cell_type": "code",
      "source": [
        "data['Location'] = data['Location'].replace(dict.fromkeys(['Delhi', 'New Delhi', 'New York and Delhi'], 'Delhi'))"
      ],
      "metadata": {
        "id": "opgC9q90kZeh"
      },
      "execution_count": 203,
      "outputs": []
    },
    {
      "cell_type": "code",
      "source": [
        "data['Location'].unique()"
      ],
      "metadata": {
        "colab": {
          "base_uri": "https://localhost:8080/"
        },
        "id": "hgucxgV9hX_T",
        "outputId": "6017f6e3-b301-45f8-c9fe-4f24166ef8fd"
      },
      "execution_count": 204,
      "outputs": [
        {
          "output_type": "execute_result",
          "data": {
            "text/plain": [
              "array(['Bangalore', 'Mumbai', 'Jaipur', 'Outside India', 'Gurgaon',\n",
              "       'Delhi', 'Patna', 'Pune', 'Noida', 'Chennai', 'Ahmedabad',\n",
              "       'Hyderabad', 'Faridabad', 'Amritsar', 'Haryana', 'Bhopal',\n",
              "       'Nagpur', 'Indore', 'Ahemadabad', 'Rourkela'], dtype=object)"
            ]
          },
          "metadata": {},
          "execution_count": 204
        }
      ]
    },
    {
      "cell_type": "code",
      "source": [
        "data.head()"
      ],
      "metadata": {
        "colab": {
          "base_uri": "https://localhost:8080/",
          "height": 337
        },
        "id": "ElgYsRq4lAW1",
        "outputId": "5992005e-178e-4ac6-f8d4-18695e2466be"
      },
      "execution_count": 205,
      "outputs": [
        {
          "output_type": "execute_result",
          "data": {
            "text/html": [
              "\n",
              "  <div id=\"df-57fa6d48-2db4-4e0c-a0fe-fdcfc2af9dd4\">\n",
              "    <div class=\"colab-df-container\">\n",
              "      <div>\n",
              "<style scoped>\n",
              "    .dataframe tbody tr th:only-of-type {\n",
              "        vertical-align: middle;\n",
              "    }\n",
              "\n",
              "    .dataframe tbody tr th {\n",
              "        vertical-align: top;\n",
              "    }\n",
              "\n",
              "    .dataframe thead th {\n",
              "        text-align: right;\n",
              "    }\n",
              "</style>\n",
              "<table border=\"1\" class=\"dataframe\">\n",
              "  <thead>\n",
              "    <tr style=\"text-align: right;\">\n",
              "      <th></th>\n",
              "      <th>Date</th>\n",
              "      <th>Startup</th>\n",
              "      <th>Industry</th>\n",
              "      <th>Location</th>\n",
              "      <th>Investor</th>\n",
              "      <th>Type</th>\n",
              "      <th>Amount</th>\n",
              "    </tr>\n",
              "  </thead>\n",
              "  <tbody>\n",
              "    <tr>\n",
              "      <th>0</th>\n",
              "      <td>01-04-2021</td>\n",
              "      <td>BYJU'S</td>\n",
              "      <td>Education</td>\n",
              "      <td>Bangalore</td>\n",
              "      <td>Innoven Capital</td>\n",
              "      <td>Series F</td>\n",
              "      <td>46,00,00,000</td>\n",
              "    </tr>\n",
              "    <tr>\n",
              "      <th>1</th>\n",
              "      <td>05-04-2021</td>\n",
              "      <td>Meesho</td>\n",
              "      <td>E-Commerce</td>\n",
              "      <td>Bangalore</td>\n",
              "      <td>SoftBank Vision Fund 2</td>\n",
              "      <td>Series E</td>\n",
              "      <td>30,00,00,000</td>\n",
              "    </tr>\n",
              "    <tr>\n",
              "      <th>2</th>\n",
              "      <td>14-04-2021</td>\n",
              "      <td>Swiggy</td>\n",
              "      <td>Consumables</td>\n",
              "      <td>Bangalore</td>\n",
              "      <td>Amansa Holdings, Carmignac, Falcon Edge Capita...</td>\n",
              "      <td>Series J</td>\n",
              "      <td>34,30,00,000</td>\n",
              "    </tr>\n",
              "    <tr>\n",
              "      <th>3</th>\n",
              "      <td>07-04-2021</td>\n",
              "      <td>Groww</td>\n",
              "      <td>Finance</td>\n",
              "      <td>Bangalore</td>\n",
              "      <td>MC Global Edtech, B Capital, Baron, others</td>\n",
              "      <td>Series D</td>\n",
              "      <td>8,30,00,000</td>\n",
              "    </tr>\n",
              "    <tr>\n",
              "      <th>4</th>\n",
              "      <td>14-04-2021</td>\n",
              "      <td>Beldara</td>\n",
              "      <td>E-Commerce</td>\n",
              "      <td>Mumbai</td>\n",
              "      <td>Hindustan Media Ventures</td>\n",
              "      <td>Unknown</td>\n",
              "      <td>74,00,000</td>\n",
              "    </tr>\n",
              "  </tbody>\n",
              "</table>\n",
              "</div>\n",
              "      <button class=\"colab-df-convert\" onclick=\"convertToInteractive('df-57fa6d48-2db4-4e0c-a0fe-fdcfc2af9dd4')\"\n",
              "              title=\"Convert this dataframe to an interactive table.\"\n",
              "              style=\"display:none;\">\n",
              "        \n",
              "  <svg xmlns=\"http://www.w3.org/2000/svg\" height=\"24px\"viewBox=\"0 0 24 24\"\n",
              "       width=\"24px\">\n",
              "    <path d=\"M0 0h24v24H0V0z\" fill=\"none\"/>\n",
              "    <path d=\"M18.56 5.44l.94 2.06.94-2.06 2.06-.94-2.06-.94-.94-2.06-.94 2.06-2.06.94zm-11 1L8.5 8.5l.94-2.06 2.06-.94-2.06-.94L8.5 2.5l-.94 2.06-2.06.94zm10 10l.94 2.06.94-2.06 2.06-.94-2.06-.94-.94-2.06-.94 2.06-2.06.94z\"/><path d=\"M17.41 7.96l-1.37-1.37c-.4-.4-.92-.59-1.43-.59-.52 0-1.04.2-1.43.59L10.3 9.45l-7.72 7.72c-.78.78-.78 2.05 0 2.83L4 21.41c.39.39.9.59 1.41.59.51 0 1.02-.2 1.41-.59l7.78-7.78 2.81-2.81c.8-.78.8-2.07 0-2.86zM5.41 20L4 18.59l7.72-7.72 1.47 1.35L5.41 20z\"/>\n",
              "  </svg>\n",
              "      </button>\n",
              "      \n",
              "  <style>\n",
              "    .colab-df-container {\n",
              "      display:flex;\n",
              "      flex-wrap:wrap;\n",
              "      gap: 12px;\n",
              "    }\n",
              "\n",
              "    .colab-df-convert {\n",
              "      background-color: #E8F0FE;\n",
              "      border: none;\n",
              "      border-radius: 50%;\n",
              "      cursor: pointer;\n",
              "      display: none;\n",
              "      fill: #1967D2;\n",
              "      height: 32px;\n",
              "      padding: 0 0 0 0;\n",
              "      width: 32px;\n",
              "    }\n",
              "\n",
              "    .colab-df-convert:hover {\n",
              "      background-color: #E2EBFA;\n",
              "      box-shadow: 0px 1px 2px rgba(60, 64, 67, 0.3), 0px 1px 3px 1px rgba(60, 64, 67, 0.15);\n",
              "      fill: #174EA6;\n",
              "    }\n",
              "\n",
              "    [theme=dark] .colab-df-convert {\n",
              "      background-color: #3B4455;\n",
              "      fill: #D2E3FC;\n",
              "    }\n",
              "\n",
              "    [theme=dark] .colab-df-convert:hover {\n",
              "      background-color: #434B5C;\n",
              "      box-shadow: 0px 1px 3px 1px rgba(0, 0, 0, 0.15);\n",
              "      filter: drop-shadow(0px 1px 2px rgba(0, 0, 0, 0.3));\n",
              "      fill: #FFFFFF;\n",
              "    }\n",
              "  </style>\n",
              "\n",
              "      <script>\n",
              "        const buttonEl =\n",
              "          document.querySelector('#df-57fa6d48-2db4-4e0c-a0fe-fdcfc2af9dd4 button.colab-df-convert');\n",
              "        buttonEl.style.display =\n",
              "          google.colab.kernel.accessAllowed ? 'block' : 'none';\n",
              "\n",
              "        async function convertToInteractive(key) {\n",
              "          const element = document.querySelector('#df-57fa6d48-2db4-4e0c-a0fe-fdcfc2af9dd4');\n",
              "          const dataTable =\n",
              "            await google.colab.kernel.invokeFunction('convertToInteractive',\n",
              "                                                     [key], {});\n",
              "          if (!dataTable) return;\n",
              "\n",
              "          const docLinkHtml = 'Like what you see? Visit the ' +\n",
              "            '<a target=\"_blank\" href=https://colab.research.google.com/notebooks/data_table.ipynb>data table notebook</a>'\n",
              "            + ' to learn more about interactive tables.';\n",
              "          element.innerHTML = '';\n",
              "          dataTable['output_type'] = 'display_data';\n",
              "          await google.colab.output.renderOutput(dataTable, element);\n",
              "          const docLink = document.createElement('div');\n",
              "          docLink.innerHTML = docLinkHtml;\n",
              "          element.appendChild(docLink);\n",
              "        }\n",
              "      </script>\n",
              "    </div>\n",
              "  </div>\n",
              "  "
            ],
            "text/plain": [
              "         Date  Startup  ...      Type        Amount\n",
              "0  01-04-2021   BYJU'S  ...  Series F  46,00,00,000\n",
              "1  05-04-2021   Meesho  ...  Series E  30,00,00,000\n",
              "2  14-04-2021   Swiggy  ...  Series J  34,30,00,000\n",
              "3  07-04-2021    Groww  ...  Series D   8,30,00,000\n",
              "4  14-04-2021  Beldara  ...   Unknown     74,00,000\n",
              "\n",
              "[5 rows x 7 columns]"
            ]
          },
          "metadata": {},
          "execution_count": 205
        }
      ]
    },
    {
      "cell_type": "code",
      "source": [
        "data.isna().sum()"
      ],
      "metadata": {
        "id": "B_LiFwRlukSU"
      },
      "execution_count": null,
      "outputs": []
    }
  ]
}